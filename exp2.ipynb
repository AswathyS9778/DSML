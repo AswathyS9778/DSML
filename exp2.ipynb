{
  "nbformat": 4,
  "nbformat_minor": 0,
  "metadata": {
    "colab": {
      "name": "exp2.ipynb",
      "provenance": [],
      "authorship_tag": "ABX9TyMiKy8gLWY0mrKH1+NefKz4",
      "include_colab_link": true
    },
    "kernelspec": {
      "name": "python3",
      "display_name": "Python 3"
    },
    "language_info": {
      "name": "python"
    }
  },
  "cells": [
    {
      "cell_type": "markdown",
      "metadata": {
        "id": "view-in-github",
        "colab_type": "text"
      },
      "source": [
        "<a href=\"https://colab.research.google.com/github/AswathyS9778/DSML/blob/main/exp2.ipynb\" target=\"_parent\"><img src=\"https://colab.research.google.com/assets/colab-badge.svg\" alt=\"Open In Colab\"/></a>"
      ]
    },
    {
      "cell_type": "markdown",
      "metadata": {
        "id": "GgxPF2luYPUU"
      },
      "source": [
        "a.Matrix operations(using vectorization)"
      ]
    },
    {
      "cell_type": "code",
      "metadata": {
        "colab": {
          "base_uri": "https://localhost:8080/"
        },
        "id": "I6nYO8EyYisu",
        "outputId": "afb73320-8e88-441c-bec1-89e4b0dbdd84"
      },
      "source": [
        "import numpy as np\n",
        "m1=np.array([[1,3],[2,6]])\n",
        "m2=np.array([[0,1],[1,9]])\n",
        "print(\"orginal 2d matrix\")\n",
        "print(m1)\n",
        "print(m2)\n",
        "print(\"output of two matrix\")\n",
        "result=np.outer(m1,m2)\n",
        "print(result)"
      ],
      "execution_count": 1,
      "outputs": [
        {
          "output_type": "stream",
          "name": "stdout",
          "text": [
            "orginal 2d matrix\n",
            "[[1 3]\n",
            " [2 6]]\n",
            "[[0 1]\n",
            " [1 9]]\n",
            "output of two matrix\n",
            "[[ 0  1  1  9]\n",
            " [ 0  3  3 27]\n",
            " [ 0  2  2 18]\n",
            " [ 0  6  6 54]]\n"
          ]
        }
      ]
    },
    {
      "cell_type": "markdown",
      "metadata": {
        "id": "jqw8OJpscGM4"
      },
      "source": [
        "b.Transformation using python"
      ]
    },
    {
      "cell_type": "code",
      "metadata": {
        "colab": {
          "base_uri": "https://localhost:8080/"
        },
        "id": "WzKcNFoNcVS7",
        "outputId": "4ee49f14-61ca-4c14-f772-f422fcc91692"
      },
      "source": [
        "m=[[1,2],[3,4],[5,6]]\n",
        "for row in m:\n",
        "  print(row)\n",
        "res=[[m[j][i] for j in range(len(m))] for i in range(len(m[0]))] \n",
        "print(\"\\n\")\n",
        "for row in res:\n",
        "  print(row) "
      ],
      "execution_count": 2,
      "outputs": [
        {
          "output_type": "stream",
          "name": "stdout",
          "text": [
            "[1, 2]\n",
            "[3, 4]\n",
            "[5, 6]\n",
            "\n",
            "\n",
            "[1, 3, 5]\n",
            "[2, 4, 6]\n"
          ]
        }
      ]
    },
    {
      "cell_type": "markdown",
      "metadata": {
        "id": "iv3EMzAVdd0g"
      },
      "source": [
        "C. SVD using python"
      ]
    },
    {
      "cell_type": "code",
      "metadata": {
        "colab": {
          "base_uri": "https://localhost:8080/"
        },
        "id": "wxaQduz1djHh",
        "outputId": "58b4913e-46cd-4c1e-aeaa-49049bf69ae4"
      },
      "source": [
        "from numpy import array\n",
        "from scipy.linalg import svd\n",
        "print(\"array is:\")\n",
        "a=array([[1,2],[3,4],[5,6]])\n",
        "print(a)\n",
        "U,s,VT= svd(a)\n",
        "print(\"U\")\n",
        "print(U)\n",
        "print(\"s\")\n",
        "print(s)\n",
        "print(\"VT\")\n",
        "print(VT)\n",
        "\n"
      ],
      "execution_count": 7,
      "outputs": [
        {
          "output_type": "stream",
          "name": "stdout",
          "text": [
            "array is:\n",
            "[[1 2]\n",
            " [3 4]\n",
            " [5 6]]\n",
            "U\n",
            "[[-0.2298477   0.88346102  0.40824829]\n",
            " [-0.52474482  0.24078249 -0.81649658]\n",
            " [-0.81964194 -0.40189603  0.40824829]]\n",
            "s\n",
            "[9.52551809 0.51430058]\n",
            "VT\n",
            "[[-0.61962948 -0.78489445]\n",
            " [-0.78489445  0.61962948]]\n"
          ]
        }
      ]
    }
  ]
}