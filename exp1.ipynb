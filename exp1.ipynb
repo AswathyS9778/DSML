{
  "nbformat": 4,
  "nbformat_minor": 0,
  "metadata": {
    "colab": {
      "name": "exp1.ipynb",
      "provenance": [],
      "authorship_tag": "ABX9TyPH7gzkcr4LsSzIJV4IO0I6",
      "include_colab_link": true
    },
    "kernelspec": {
      "name": "python3",
      "display_name": "Python 3"
    },
    "language_info": {
      "name": "python"
    }
  },
  "cells": [
    {
      "cell_type": "markdown",
      "metadata": {
        "id": "view-in-github",
        "colab_type": "text"
      },
      "source": [
        "<a href=\"https://colab.research.google.com/github/AswathyS9778/DSML/blob/main/exp1.ipynb\" target=\"_parent\"><img src=\"https://colab.research.google.com/assets/colab-badge.svg\" alt=\"Open In Colab\"/></a>"
      ]
    },
    {
      "cell_type": "markdown",
      "metadata": {
        "id": "JhQkSXEFfU60"
      },
      "source": [
        ""
      ]
    },
    {
      "cell_type": "markdown",
      "metadata": {
        "id": "UOQTDom-fXYL"
      },
      "source": [
        "a.DataTypes\n"
      ]
    },
    {
      "cell_type": "code",
      "metadata": {
        "colab": {
          "base_uri": "https://localhost:8080/"
        },
        "id": "EgqNJTUgaQGe",
        "outputId": "bb658340-5ecd-4878-9d7d-61b2770643cf"
      },
      "source": [
        "s=1\n",
        "print(type(s))\n",
        "a=\"hello\"\n",
        "print(type(a))\n",
        "b=[1,2]\n",
        "print(type(b))\n",
        "c={1:'apple',2:'orange'}\n",
        "print(type(c))\n",
        "d=True\n",
        "print(type(d))\n",
        "e=1.2\n",
        "print(type(e))\n",
        "f={\"a\",\"b\"}\n",
        "print(type(f))\n",
        "g=()\n",
        "print(type(g))\n",
        "h=bytes()\n",
        "print(type(h))\n",
        "i=bytearray()\n",
        "print(type(i))\n",
        "j=range(4)\n",
        "print(type(j))"
      ],
      "execution_count": null,
      "outputs": [
        {
          "output_type": "stream",
          "name": "stdout",
          "text": [
            "<class 'int'>\n",
            "<class 'str'>\n",
            "<class 'list'>\n",
            "<class 'dict'>\n",
            "<class 'bool'>\n",
            "<class 'float'>\n",
            "<class 'set'>\n",
            "<class 'tuple'>\n",
            "<class 'bytes'>\n",
            "<class 'bytearray'>\n",
            "<class 'range'>\n"
          ]
        }
      ]
    },
    {
      "cell_type": "markdown",
      "metadata": {
        "id": "MF2_SL1mfQwZ"
      },
      "source": [
        "b.Containers"
      ]
    },
    {
      "cell_type": "code",
      "metadata": {
        "colab": {
          "base_uri": "https://localhost:8080/"
        },
        "id": "lH91xZYgftOl",
        "outputId": "b5ad7154-78b9-4e70-9e7f-9401e6752a27"
      },
      "source": [
        "#list\n",
        "k=['a','s','w','a','t','h','y']\n",
        "print(k[0])\n",
        "print(k[1])\n",
        "print(k[2])\n",
        "print(k[3])\n",
        "print(k[0:2])\n",
        "print(k[ : ])\n",
        "print(k[-2])"
      ],
      "execution_count": null,
      "outputs": [
        {
          "output_type": "stream",
          "name": "stdout",
          "text": [
            "a\n",
            "s\n",
            "w\n",
            "a\n",
            "['a', 's']\n",
            "['a', 's', 'w', 'a', 't', 'h', 'y']\n",
            "h\n"
          ]
        }
      ]
    },
    {
      "cell_type": "code",
      "metadata": {
        "colab": {
          "base_uri": "https://localhost:8080/"
        },
        "id": "mVkmCjhdiBhq",
        "outputId": "44251fe6-fa1c-4d04-a4b5-06ddb40a7335"
      },
      "source": [
        "#dictionary\n",
        "d={1:'aswathy',2:'giri',3:'hari'}\n",
        "print(d)\n",
        "print(\"1st name is\"+d[1])\n",
        "print(\"2nd name is\"+d[2])\n",
        "print(d.keys())\n",
        "print(d.values())"
      ],
      "execution_count": null,
      "outputs": [
        {
          "output_type": "stream",
          "name": "stdout",
          "text": [
            "{1: 'aswathy', 2: 'giri', 3: 'hari'}\n",
            "1st name isaswathy\n",
            "2nd name isgiri\n",
            "dict_keys([1, 2, 3])\n",
            "dict_values(['aswathy', 'giri', 'hari'])\n"
          ]
        }
      ]
    },
    {
      "cell_type": "code",
      "metadata": {
        "id": "_HVIEr2N9I65"
      },
      "source": [
        "#sets\n",
        "k={1,2,3}\n",
        "print(k)\n",
        "m={1.0,\"hello\",(1,2,3)}\n",
        "print(m)\n",
        "n=set([1,2,3,2])\n",
        "print(n)\n",
        "o=set(\"helloworld\")\n",
        "print(o)"
      ],
      "execution_count": null,
      "outputs": []
    }
  ]
}