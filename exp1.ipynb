{
  "nbformat": 4,
  "nbformat_minor": 0,
  "metadata": {
    "colab": {
      "name": "exp1.ipynb",
      "provenance": [],
      "authorship_tag": "ABX9TyPYV27VIyCokxyARVdXJoSU",
      "include_colab_link": true
    },
    "kernelspec": {
      "name": "python3",
      "display_name": "Python 3"
    },
    "language_info": {
      "name": "python"
    }
  },
  "cells": [
    {
      "cell_type": "markdown",
      "metadata": {
        "id": "view-in-github",
        "colab_type": "text"
      },
      "source": [
        "<a href=\"https://colab.research.google.com/github/AswathyS9778/DSML/blob/main/exp1.ipynb\" target=\"_parent\"><img src=\"https://colab.research.google.com/assets/colab-badge.svg\" alt=\"Open In Colab\"/></a>"
      ]
    },
    {
      "cell_type": "markdown",
      "metadata": {
        "id": "JhQkSXEFfU60"
      },
      "source": [
        ""
      ]
    },
    {
      "cell_type": "markdown",
      "metadata": {
        "id": "UOQTDom-fXYL"
      },
      "source": [
        "a.DataTypes\n"
      ]
    },
    {
      "cell_type": "code",
      "metadata": {
        "colab": {
          "base_uri": "https://localhost:8080/"
        },
        "id": "EgqNJTUgaQGe",
        "outputId": "bb658340-5ecd-4878-9d7d-61b2770643cf"
      },
      "source": [
        "s=1\n",
        "print(type(s))\n",
        "a=\"hello\"\n",
        "print(type(a))\n",
        "b=[1,2]\n",
        "print(type(b))\n",
        "c={1:'apple',2:'orange'}\n",
        "print(type(c))\n",
        "d=True\n",
        "print(type(d))\n",
        "e=1.2\n",
        "print(type(e))\n",
        "f={\"a\",\"b\"}\n",
        "print(type(f))\n",
        "g=()\n",
        "print(type(g))\n",
        "h=bytes()\n",
        "print(type(h))\n",
        "i=bytearray()\n",
        "print(type(i))\n",
        "j=range(4)\n",
        "print(type(j))"
      ],
      "execution_count": null,
      "outputs": [
        {
          "output_type": "stream",
          "name": "stdout",
          "text": [
            "<class 'int'>\n",
            "<class 'str'>\n",
            "<class 'list'>\n",
            "<class 'dict'>\n",
            "<class 'bool'>\n",
            "<class 'float'>\n",
            "<class 'set'>\n",
            "<class 'tuple'>\n",
            "<class 'bytes'>\n",
            "<class 'bytearray'>\n",
            "<class 'range'>\n"
          ]
        }
      ]
    },
    {
      "cell_type": "markdown",
      "metadata": {
        "id": "MF2_SL1mfQwZ"
      },
      "source": [
        "b.Containers"
      ]
    },
    {
      "cell_type": "code",
      "metadata": {
        "colab": {
          "base_uri": "https://localhost:8080/"
        },
        "id": "lH91xZYgftOl",
        "outputId": "b5ad7154-78b9-4e70-9e7f-9401e6752a27"
      },
      "source": [
        "#list\n",
        "k=['a','s','w','a','t','h','y']\n",
        "print(k[0])\n",
        "print(k[1])\n",
        "print(k[2])\n",
        "print(k[3])\n",
        "print(k[0:2])\n",
        "print(k[ : ])\n",
        "print(k[-2])"
      ],
      "execution_count": null,
      "outputs": [
        {
          "output_type": "stream",
          "name": "stdout",
          "text": [
            "a\n",
            "s\n",
            "w\n",
            "a\n",
            "['a', 's']\n",
            "['a', 's', 'w', 'a', 't', 'h', 'y']\n",
            "h\n"
          ]
        }
      ]
    },
    {
      "cell_type": "code",
      "metadata": {
        "colab": {
          "base_uri": "https://localhost:8080/"
        },
        "id": "mVkmCjhdiBhq",
        "outputId": "06686720-1a8f-4e68-c34f-00ae7cb7a5a7"
      },
      "source": [
        "#dictionary\n",
        "d={1:'aswathy',2:'anjali',3:'sree'}\n",
        "print(d)\n",
        "print(\"1st name is\"+d[1])\n",
        "print(\"2nd name is\"+d[2])\n",
        "print(d.keys())\n",
        "print(d.values())"
      ],
      "execution_count": 4,
      "outputs": [
        {
          "output_type": "stream",
          "name": "stdout",
          "text": [
            "{1: 'aswathy', 2: 'anjali', 3: 'sree'}\n",
            "1st name isaswathy\n",
            "2nd name isanjali\n",
            "dict_keys([1, 2, 3])\n",
            "dict_values(['aswathy', 'anjali', 'sree'])\n"
          ]
        }
      ]
    },
    {
      "cell_type": "code",
      "metadata": {
        "id": "_HVIEr2N9I65",
        "colab": {
          "base_uri": "https://localhost:8080/"
        },
        "outputId": "0a3e2d35-83cc-419b-cc08-58acd910f1df"
      },
      "source": [
        "#sets\n",
        "k={1,2,3}\n",
        "print(k)\n",
        "m={1.0,\"hello\",(1,2,3)}\n",
        "print(m)\n",
        "n=set([1,2,3,2])\n",
        "print(n)\n",
        "o=set([\"helloworld\"])\n",
        "print(o)"
      ],
      "execution_count": 13,
      "outputs": [
        {
          "output_type": "stream",
          "name": "stdout",
          "text": [
            "{1, 2, 3}\n",
            "{1.0, (1, 2, 3), 'hello'}\n",
            "{1, 2, 3}\n",
            "{'helloworld'}\n"
          ]
        }
      ]
    },
    {
      "cell_type": "markdown",
      "metadata": {
        "id": "TSEmY95mRlh_"
      },
      "source": [
        "C.Function and return statement\n"
      ]
    },
    {
      "cell_type": "code",
      "metadata": {
        "colab": {
          "base_uri": "https://localhost:8080/"
        },
        "id": "DoC5_8GsRvER",
        "outputId": "13df10e7-b5a8-4c1b-b93c-662b3cfe3f84"
      },
      "source": [
        "def add(a,b):\n",
        "  return a+b\n",
        "res=add(2,3)\n",
        "print(\"result\",res)\n"
      ],
      "execution_count": 10,
      "outputs": [
        {
          "output_type": "stream",
          "name": "stdout",
          "text": [
            "result 5\n"
          ]
        }
      ]
    },
    {
      "cell_type": "code",
      "metadata": {
        "colab": {
          "base_uri": "https://localhost:8080/"
        },
        "id": "LH-zIMKqUXCm",
        "outputId": "875e039e-d34b-4a91-f9f9-c57e1a9c9926"
      },
      "source": [
        "def recfact(n):\n",
        "   if n == 1:\n",
        "       return n\n",
        "   else:\n",
        "       return n*recfact(n-1)\n",
        "num = 7\n",
        "if num < 0:\n",
        "   print(\"factorial not possible\")\n",
        "elif num == 0:\n",
        "   print(\"The factorial of 0 is 1\")\n",
        "else:\n",
        "   print(\"The factorial of\", num, \"is\", recfact(num))"
      ],
      "execution_count": 16,
      "outputs": [
        {
          "output_type": "stream",
          "name": "stdout",
          "text": [
            "The factorial of 7 is 5040\n"
          ]
        }
      ]
    }
  ]
}